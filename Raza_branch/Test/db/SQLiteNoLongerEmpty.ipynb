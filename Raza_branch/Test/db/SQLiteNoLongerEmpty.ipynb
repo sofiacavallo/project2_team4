{
 "cells": [
  {
   "cell_type": "code",
   "execution_count": 1,
   "metadata": {},
   "outputs": [],
   "source": [
    "# Ignore SQLITE warnings related to Decimal numbers in the Chinook database\n",
    "import warnings\n",
    "warnings.filterwarnings('ignore')"
   ]
  },
  {
   "cell_type": "code",
   "execution_count": 2,
   "metadata": {},
   "outputs": [],
   "source": [
    "import pandas as pd\n",
    "import numpy as np\n",
    "import sqlalchemy\n",
    "from sqlalchemy.ext.automap import automap_base\n",
    "from sqlalchemy.orm import Session\n",
    "from sqlalchemy import create_engine, inspect"
   ]
  },
  {
   "cell_type": "code",
   "execution_count": 3,
   "metadata": {},
   "outputs": [],
   "source": [
    "# Create an engine for the gva1.sqlite database\n",
    "engine = create_engine(\"sqlite:///gva1.sqlite\", echo=False)"
   ]
  },
  {
   "cell_type": "code",
   "execution_count": 4,
   "metadata": {},
   "outputs": [],
   "source": [
    "# Create the inspector and connect it to the engine\n",
    "inspector = inspect(engine)"
   ]
  },
  {
   "cell_type": "code",
   "execution_count": 5,
   "metadata": {},
   "outputs": [
    {
     "data": {
      "text/plain": [
       "['gunviolence_db', 'gv1']"
      ]
     },
     "execution_count": 5,
     "metadata": {},
     "output_type": "execute_result"
    }
   ],
   "source": [
    "# Collect the names of tables within the database\n",
    "inspector.get_table_names()"
   ]
  },
  {
   "cell_type": "code",
   "execution_count": 6,
   "metadata": {},
   "outputs": [
    {
     "name": "stdout",
     "output_type": "stream",
     "text": [
      "index BIGINT\n",
      "incident_id BIGINT\n",
      "date DATETIME\n",
      "state TEXT\n",
      "city_or_county TEXT\n",
      "address TEXT\n",
      "killed BIGINT\n",
      "injured BIGINT\n",
      "district FLOAT\n",
      "latitude FLOAT\n",
      "longitude FLOAT\n"
     ]
    }
   ],
   "source": [
    "# Using the inspector to print the column names within the 'Salaries' table and its types\n",
    "columns = inspector.get_columns('gv1')\n",
    "for column in columns:\n",
    "    print(column[\"name\"], column[\"type\"])"
   ]
  },
  {
   "cell_type": "code",
   "execution_count": 7,
   "metadata": {},
   "outputs": [
    {
     "name": "stdout",
     "output_type": "stream",
     "text": [
      "index BIGINT\n",
      "0 TEXT\n"
     ]
    }
   ],
   "source": [
    "# Using the inspector to print the column names within the 'Salaries' table and its types\n",
    "columns2 = inspector.get_columns('gunviolence_db')\n",
    "for column in columns2:\n",
    "    print(column[\"name\"], column[\"type\"])"
   ]
  },
  {
   "cell_type": "code",
   "execution_count": 11,
   "metadata": {},
   "outputs": [
    {
     "name": "stdout",
     "output_type": "stream",
     "text": [
      "         index  incident_id                        date                 state  \\\n",
      "0            0       461105  2013-01-01 00:00:00.000000          Pennsylvania   \n",
      "1            1       460726  2013-01-01 00:00:00.000000            California   \n",
      "2            2       478855  2013-01-01 00:00:00.000000                  Ohio   \n",
      "3            3       478925  2013-01-05 00:00:00.000000              Colorado   \n",
      "4            4       478959  2013-01-07 00:00:00.000000        North Carolina   \n",
      "5            5       478948  2013-01-07 00:00:00.000000              Oklahoma   \n",
      "6            6       479363  2013-01-19 00:00:00.000000            New Mexico   \n",
      "7            7       479374  2013-01-21 00:00:00.000000             Louisiana   \n",
      "8            8       479389  2013-01-21 00:00:00.000000            California   \n",
      "9            9       492151  2013-01-23 00:00:00.000000              Maryland   \n",
      "10          10       491674  2013-01-23 00:00:00.000000             Tennessee   \n",
      "11          11       479413  2013-01-25 00:00:00.000000              Missouri   \n",
      "12          12       479561  2013-01-26 00:00:00.000000             Louisiana   \n",
      "13          13       479554  2013-01-26 00:00:00.000000  District of Columbia   \n",
      "14          14       479460  2013-01-26 00:00:00.000000                  Ohio   \n",
      "15          15       479573  2013-02-02 00:00:00.000000             Tennessee   \n",
      "16          16       479580  2013-02-03 00:00:00.000000            California   \n",
      "17          17       479592  2013-02-07 00:00:00.000000              Illinois   \n",
      "18          18       479603  2013-02-09 00:00:00.000000             Louisiana   \n",
      "19          19       480311  2013-02-11 00:00:00.000000            California   \n",
      "20          20       480327  2013-02-11 00:00:00.000000              Delaware   \n",
      "21          21       480344  2013-02-12 00:00:00.000000                  Utah   \n",
      "22          22       480358  2013-02-19 00:00:00.000000            California   \n",
      "23          23       480383  2013-02-21 00:00:00.000000              Oklahoma   \n",
      "24          24       480401  2013-02-22 00:00:00.000000              Michigan   \n",
      "25          25       480407  2013-02-23 00:00:00.000000            California   \n",
      "26          26       480443  2013-02-24 00:00:00.000000               Georgia   \n",
      "27          27       481186  2013-03-02 00:00:00.000000             Louisiana   \n",
      "28          28       481198  2013-03-03 00:00:00.000000               Georgia   \n",
      "29          29       481208  2013-03-03 00:00:00.000000              Michigan   \n",
      "...        ...          ...                         ...                   ...   \n",
      "211649  239632      1082187  2018-03-31 00:00:00.000000        North Carolina   \n",
      "211650  239634      1082201  2018-03-31 00:00:00.000000                 Texas   \n",
      "211651  239635      1081662  2018-03-31 00:00:00.000000               Florida   \n",
      "211652  239636      1082154  2018-03-31 00:00:00.000000               Indiana   \n",
      "211653  239638      1082096  2018-03-31 00:00:00.000000            California   \n",
      "211654  239639      1082607  2018-03-31 00:00:00.000000            California   \n",
      "211655  239640      1081786  2018-03-31 00:00:00.000000         Massachusetts   \n",
      "211656  239641      1082413  2018-03-31 00:00:00.000000             Tennessee   \n",
      "211657  239642      1082426  2018-03-31 00:00:00.000000              New York   \n",
      "211658  239643      1081925  2018-03-31 00:00:00.000000              New York   \n",
      "211659  239645      1081976  2018-03-31 00:00:00.000000              New York   \n",
      "211660  239646      1082455  2018-03-31 00:00:00.000000          Pennsylvania   \n",
      "211661  239650      1082266  2018-03-31 00:00:00.000000            California   \n",
      "211662  239651      1082483  2018-03-31 00:00:00.000000                 Texas   \n",
      "211663  239652      1082486  2018-03-31 00:00:00.000000                 Texas   \n",
      "211664  239653      1083121  2018-03-31 00:00:00.000000                Nevada   \n",
      "211665  239654      1081947  2018-03-31 00:00:00.000000                Nevada   \n",
      "211666  239655      1082089  2018-03-31 00:00:00.000000            California   \n",
      "211667  239656      1081901  2018-03-31 00:00:00.000000              New York   \n",
      "211668  239657      1082394  2018-03-31 00:00:00.000000            California   \n",
      "211669  239659      1082057  2018-03-31 00:00:00.000000               Florida   \n",
      "211670  239660      1082091  2018-03-31 00:00:00.000000            California   \n",
      "211671  239663      1082197  2018-03-31 00:00:00.000000              Oklahoma   \n",
      "211672  239664      1082023  2018-03-31 00:00:00.000000              Missouri   \n",
      "211673  239667      1082234  2018-03-31 00:00:00.000000             Tennessee   \n",
      "211674  239671      1082061  2018-03-31 00:00:00.000000            Washington   \n",
      "211675  239673      1083139  2018-03-31 00:00:00.000000             Louisiana   \n",
      "211676  239674      1083151  2018-03-31 00:00:00.000000             Louisiana   \n",
      "211677  239675      1082514  2018-03-31 00:00:00.000000                 Texas   \n",
      "211678  239676      1081940  2018-03-31 00:00:00.000000                 Maine   \n",
      "\n",
      "                  city_or_county  \\\n",
      "0                     Mckeesport   \n",
      "1                      Hawthorne   \n",
      "2                         Lorain   \n",
      "3                         Aurora   \n",
      "4                     Greensboro   \n",
      "5                          Tulsa   \n",
      "6                    Albuquerque   \n",
      "7                    New Orleans   \n",
      "8                      Brentwood   \n",
      "9                      Baltimore   \n",
      "10                   Chattanooga   \n",
      "11                   Saint Louis   \n",
      "12                     Charenton   \n",
      "13                    Washington   \n",
      "14                   Springfield   \n",
      "15                       Memphis   \n",
      "16                 Yuba (county)   \n",
      "17                       Chicago   \n",
      "18                   New Orleans   \n",
      "19                       Vallejo   \n",
      "20                    Wilmington   \n",
      "21                       Midvale   \n",
      "22               Orange (county)   \n",
      "23                         Tulsa   \n",
      "24                  Grand Rapids   \n",
      "25                     Lancaster   \n",
      "26                         Macon   \n",
      "27                    Shreveport   \n",
      "28                      Moultrie   \n",
      "29              Saginaw (county)   \n",
      "...                          ...   \n",
      "211649                 Charlotte   \n",
      "211650                  Pasadena   \n",
      "211651               Tallahassee   \n",
      "211652              Indianapolis   \n",
      "211653                 Earlimart   \n",
      "211654                   Salinas   \n",
      "211655                    Boston   \n",
      "211656                    Martin   \n",
      "211657                 Uniondale   \n",
      "211658               Lindenhurst   \n",
      "211659                  Brooklyn   \n",
      "211660                  Duquesne   \n",
      "211661                  Palmdale   \n",
      "211662             Wichita Falls   \n",
      "211663                    Dallas   \n",
      "211664                      Reno   \n",
      "211665                      Reno   \n",
      "211666                 San Diego   \n",
      "211667                 Rochester   \n",
      "211668                   Shafter   \n",
      "211669                   Orlando   \n",
      "211670                  Stockton   \n",
      "211671                   Guthrie   \n",
      "211672                    Festus   \n",
      "211673                   Memphis   \n",
      "211674  Spokane (Spokane Valley)   \n",
      "211675              Natchitoches   \n",
      "211676                    Gretna   \n",
      "211677                   Houston   \n",
      "211678              Norridgewock   \n",
      "\n",
      "                                                  address  killed  injured  \\\n",
      "0               1506 Versailles Avenue and Coursin Street       0        4   \n",
      "1                            13500 block of Cerise Avenue       1        3   \n",
      "2                                   1776 East 28th Street       1        3   \n",
      "3                        16000 block of East Ithaca Place       4        0   \n",
      "4                               307 Mourning Dove Terrace       2        2   \n",
      "5                              6000 block of South Owasso       4        0   \n",
      "6                                          2806 Long Lane       5        0   \n",
      "7       LaSalle Street and Martin Luther King Jr. Boul...       0        5   \n",
      "8                              1100 block of Breton Drive       0        4   \n",
      "9                            1500 block of W. Fayette St.       1        6   \n",
      "10                                         1501 Dodds Ave       1        3   \n",
      "11                    W Florissant Ave and Riverview Blvd       1        3   \n",
      "12                           1000 block of Flat Town Road       2        3   \n",
      "13                            2403 Benning Road Northeast       0        5   \n",
      "14                                   601 West Main Street       1        3   \n",
      "15                                      2514 Mount Moriah       0        5   \n",
      "16                            5800 block of Poplar Avenue       1        3   \n",
      "17                         2500 block of East 75th Street       0        4   \n",
      "18                            400 block of Bourbon Street       0        4   \n",
      "19                           800 block of Humboldt Street       1        4   \n",
      "20                                  500 North King Street       3        2   \n",
      "21                  8286 Adams Street and 450 West Street       4        1   \n",
      "22                                         Katella Avenue       4        3   \n",
      "23                   1200 block of North 89th East Avenue       1        3   \n",
      "24                                1447 Grandville Ave. SW       0        4   \n",
      "25                          43145 Business Center Parkway       0        4   \n",
      "26                  2800 block of Mercer University Drive       0        8   \n",
      "27                     7000 block of Burlingame Boulevard       1        3   \n",
      "28                            224 Second Street Northwest       2        2   \n",
      "29                                         4030 Dixie Hwy       0        4   \n",
      "...                                                   ...     ...      ...   \n",
      "211649                                  900 E Arrowood Rd       0        1   \n",
      "211650                                    920 Houston Ave       1        1   \n",
      "211651                        Basin St and W Tennessee St       1        0   \n",
      "211652                                  2085 Waterford Pl       0        2   \n",
      "211653                              700 block of S Oak St       1        0   \n",
      "211654                                          Harris Ct       0        0   \n",
      "211655                                       130 Evans St       1        0   \n",
      "211656                                  160 Old Fulton Rd       0        0   \n",
      "211657                                        Harrison St       0        0   \n",
      "211658                                    105 Sunrise Hwy       1        1   \n",
      "211659                         1200 block of Flatbush Ave       1        0   \n",
      "211660                          400 block of Hamilton Ave       1        0   \n",
      "211661                           37900 block of 47th St E       1        0   \n",
      "211662                               2300 block of 8th St       0        1   \n",
      "211663                     1200 block of Whispering Trail       0        1   \n",
      "211664                                  1400 E Peckham Ln       1        0   \n",
      "211665                                        Wedekind Rd       1        0   \n",
      "211666                                    8660 Miramar Rd       0        0   \n",
      "211667                            100 block of Warren Ave       1        0   \n",
      "211668                          300 block of Atlantic Ave       0        0   \n",
      "211669              South Kirkman Road and Raleigh Street       0        3   \n",
      "211670                            1700 block of Harbor St       2        0   \n",
      "211671                             500 block of Walnut St       1        0   \n",
      "211672                4200 block of Hillsboro Hematite Rd       0        1   \n",
      "211673                              2900 block of Wingate       0        1   \n",
      "211674                   12600 block of N Willow Crest Ln       0        0   \n",
      "211675                                     247 Keyser Ave       1        0   \n",
      "211676                          1300 block of Cook Street       0        1   \n",
      "211677                             12630 Ashford Point Dr       1        0   \n",
      "211678                                   434 Skowhegan Rd       2        0   \n",
      "\n",
      "        district  latitude  longitude  \n",
      "0           14.0   40.3467   -79.8559  \n",
      "1           43.0   33.9090  -118.3330  \n",
      "2            9.0   41.4455   -82.1377  \n",
      "3            6.0   39.6518  -104.8020  \n",
      "4            6.0   36.1140   -79.9569  \n",
      "5            1.0   36.2405   -95.9768  \n",
      "6            1.0   34.9791  -106.7160  \n",
      "7            2.0   29.9435   -90.0836  \n",
      "8            9.0   37.9656  -121.7180  \n",
      "9            7.0   39.2899   -76.6412  \n",
      "10           3.0   35.0221   -85.2697  \n",
      "11           1.0   38.7067   -90.2494  \n",
      "12           3.0   29.8816   -91.5251  \n",
      "13           1.0   38.8978   -76.9717  \n",
      "14           8.0   39.9252   -83.8218  \n",
      "15           9.0   35.0803   -89.8871  \n",
      "16           3.0   39.1236  -121.5830  \n",
      "17           2.0   41.7592   -87.5628  \n",
      "18           2.0   29.9563   -90.0676  \n",
      "19           5.0   38.1072  -122.2280  \n",
      "20           1.0   39.7407   -75.5499  \n",
      "21           4.0   40.6008  -111.9030  \n",
      "22          46.0   33.8031  -117.9430  \n",
      "23           1.0   36.1722   -95.8778  \n",
      "24           3.0   42.9371   -85.6853  \n",
      "25          25.0   34.6666  -118.1310  \n",
      "26           2.0   32.8260   -83.6704  \n",
      "27           4.0   32.4420   -93.7726  \n",
      "28           8.0   31.1824   -83.7912  \n",
      "29           5.0   43.3944   -83.9082  \n",
      "...          ...       ...        ...  \n",
      "211649      12.0   35.1372   -80.8772  \n",
      "211650      29.0   29.6872   -95.2024  \n",
      "211651       2.0   30.4490   -84.3068  \n",
      "211652       7.0   39.8850   -86.1967  \n",
      "211653      21.0   35.8791  -119.2650  \n",
      "211654      20.0   36.6191  -121.6360  \n",
      "211655       7.0   42.2812   -71.0836  \n",
      "211656       8.0   36.3500   -88.8510  \n",
      "211657       4.0   40.6887   -73.5990  \n",
      "211658       2.0   40.7039   -73.3743  \n",
      "211659       9.0   40.6409   -73.9565  \n",
      "211660      14.0   40.3740   -79.8505  \n",
      "211661      25.0   34.5713  -118.0450  \n",
      "211662      13.0   33.9052   -98.5151  \n",
      "211663      30.0   32.6772   -96.8059  \n",
      "211664       2.0   39.4832  -119.7800  \n",
      "211665       2.0   39.5537  -119.7760  \n",
      "211666      52.0   32.8936  -117.1360  \n",
      "211667      25.0   43.1076   -77.5617  \n",
      "211668      21.0   35.5019  -119.2830  \n",
      "211669      10.0   28.5279   -81.4594  \n",
      "211670       9.0   37.9478  -121.3140  \n",
      "211671       3.0   35.8739   -97.4163  \n",
      "211672       8.0   38.2074   -90.4990  \n",
      "211673       9.0   35.2045   -89.9872  \n",
      "211674       5.0   47.6638  -117.2350  \n",
      "211675       4.0   31.7537   -93.0836  \n",
      "211676       2.0   29.9239   -90.0442  \n",
      "211677       9.0   29.7201   -95.6110  \n",
      "211678       2.0   44.7293   -69.7691  \n",
      "\n",
      "[211679 rows x 11 columns]\n"
     ]
    }
   ],
   "source": [
    "engine = create_engine(\"sqlite:///gva1.sqlite\")\n",
    "df_gun_violence = pd.read_sql('select * from gv1', engine)\n",
    "print((df_gun_violence))"
   ]
  },
  {
   "cell_type": "code",
   "execution_count": 12,
   "metadata": {},
   "outputs": [],
   "source": [
    "# Declare a Base using `automap_base()`\n",
    "Base = automap_base()"
   ]
  },
  {
   "cell_type": "code",
   "execution_count": 13,
   "metadata": {},
   "outputs": [],
   "source": [
    "# Use the Base class to reflect the database tables\n",
    "Base.prepare(engine, reflect=True)"
   ]
  },
  {
   "cell_type": "code",
   "execution_count": 14,
   "metadata": {},
   "outputs": [
    {
     "data": {
      "text/plain": [
       "[]"
      ]
     },
     "execution_count": 14,
     "metadata": {},
     "output_type": "execute_result"
    }
   ],
   "source": [
    "# Print all of the classes mapped to the Base\n",
    "Base.classes.keys()"
   ]
  },
  {
   "cell_type": "code",
   "execution_count": 13,
   "metadata": {},
   "outputs": [],
   "source": [
    "# #Import libraries\n",
    "# from sqlalchemy import create_engine, Column, Integer, String, Date\n",
    "# from sqlalchemy.ext.declarative import declarative_base\n",
    "# Base = declarative_base()"
   ]
  },
  {
   "cell_type": "code",
   "execution_count": 14,
   "metadata": {},
   "outputs": [],
   "source": [
    "# # Define our pet table\n",
    "# class GVA(Base):\n",
    "#     __tablename__ = 'GVA'\n",
    "#     index = Column(Integer, primary_key=True)\n",
    "#     incident_id = Column(Integer)\n",
    "#     date = Column(Date)\n",
    "#     age = Column(Integer)\n",
    "#     state = Column(String)\n",
    "#     city_or_county = Column(String)\n",
    "#     address = Column(String)\n",
    "#     killed = Column(Integer)\n",
    "#     injured = Column(Integer)\n",
    "#     district = Column(Integer)\n",
    "#     latitude = Column(Integer)\n",
    "#     longitude = Column(Integer)"
   ]
  },
  {
   "cell_type": "code",
   "execution_count": 18,
   "metadata": {},
   "outputs": [
    {
     "data": {
      "text/plain": [
       "immutabledict({'GVA': Table('GVA', MetaData(bind=None), Column('index', Integer(), table=<GVA>, primary_key=True, nullable=False), Column('incident_id', Integer(), table=<GVA>), Column('date', Date(), table=<GVA>), Column('age', Integer(), table=<GVA>), Column('state', String(), table=<GVA>), Column('city_or_county', String(), table=<GVA>), Column('address', String(), table=<GVA>), Column('killed', Integer(), table=<GVA>), Column('injured', Integer(), table=<GVA>), Column('district', Integer(), table=<GVA>), Column('latitude', Integer(), table=<GVA>), Column('longitude', Integer(), table=<GVA>), schema=None)})"
      ]
     },
     "execution_count": 18,
     "metadata": {},
     "output_type": "execute_result"
    }
   ],
   "source": [
    "# # Right now, this table only exists in python and not in the actual database. If you want informational text about which tables you have and what the column names are, use:\n",
    "# Base.metadata.tables"
   ]
  },
  {
   "cell_type": "code",
   "execution_count": 16,
   "metadata": {},
   "outputs": [],
   "source": [
    "# # To push the objects made and query the server we use a Session object\n",
    "# from sqlalchemy.orm import Session\n",
    "# session = Session(bind=engine)"
   ]
  },
  {
   "cell_type": "code",
   "execution_count": 19,
   "metadata": {},
   "outputs": [],
   "source": [
    "# # Create our database engine\n",
    "# engine = create_engine('sqlite:///gva1.sqlite')"
   ]
  },
  {
   "cell_type": "code",
   "execution_count": 20,
   "metadata": {},
   "outputs": [],
   "source": [
    "# # This is where we create our tables in the database\n",
    "# Base.metadata.create_all(engine)"
   ]
  },
  {
   "cell_type": "code",
   "execution_count": 21,
   "metadata": {},
   "outputs": [],
   "source": [
    "# # The ORM’s “handle” to the database is the Session.\n",
    "# from sqlalchemy.orm import Session\n",
    "# session = Session(engine)\n"
   ]
  },
  {
   "cell_type": "code",
   "execution_count": 22,
   "metadata": {},
   "outputs": [
    {
     "data": {
      "text/plain": [
       "[]"
      ]
     },
     "execution_count": 22,
     "metadata": {},
     "output_type": "execute_result"
    }
   ],
   "source": [
    "# # The data hasn't been added yet so if you try to fetch the new data, you won't get any response\n",
    "# engine.execute('select * from GVA').fetchall()"
   ]
  },
  {
   "cell_type": "code",
   "execution_count": null,
   "metadata": {},
   "outputs": [],
   "source": []
  }
 ],
 "metadata": {
  "kernelspec": {
   "display_name": "Python [conda env:PythonData] *",
   "language": "python",
   "name": "conda-env-PythonData-py"
  },
  "language_info": {
   "codemirror_mode": {
    "name": "ipython",
    "version": 3
   },
   "file_extension": ".py",
   "mimetype": "text/x-python",
   "name": "python",
   "nbconvert_exporter": "python",
   "pygments_lexer": "ipython3",
   "version": "3.7.3"
  }
 },
 "nbformat": 4,
 "nbformat_minor": 2
}
