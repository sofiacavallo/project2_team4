{
 "cells": [
  {
   "cell_type": "code",
   "execution_count": 1,
   "metadata": {},
   "outputs": [],
   "source": [
    "import os\n",
    "\n",
    "import pandas as pd\n",
    "import numpy as np\n",
    "\n",
    "import sqlalchemy\n",
    "from sqlalchemy.ext.automap import automap_base\n",
    "from sqlalchemy.orm import Session\n",
    "from sqlalchemy import create_engine\n",
    "\n",
    "from flask import Flask, jsonify, render_template\n",
    "from flask_sqlalchemy import SQLAlchemy\n",
    "\n",
    "app = Flask(__name__)"
   ]
  },
  {
   "cell_type": "code",
   "execution_count": 2,
   "metadata": {},
   "outputs": [
    {
     "name": "stdout",
     "output_type": "stream",
     "text": [
      "425\n"
     ]
    }
   ],
   "source": [
    "# Database Setup\n",
    "engine = create_engine(\"sqlite:///db/gunviolence_db.sqlite\")\n",
    "df_gun_violence = pd.read_sql('select * from gunviolence_db', engine)\n",
    "print(len(df_gun_violence))"
   ]
  },
  {
   "cell_type": "code",
   "execution_count": 3,
   "metadata": {},
   "outputs": [],
   "source": [
    "@app.route(\"/\")\n",
    "def index():\n",
    "    \"\"\"Return the homepage.\"\"\"\n",
    "    return render_template(\"index.html\")"
   ]
  },
  {
   "cell_type": "code",
   "execution_count": 4,
   "metadata": {},
   "outputs": [
    {
     "ename": "NameError",
     "evalue": "name 'stmt' is not defined",
     "output_type": "error",
     "traceback": [
      "\u001b[1;31m---------------------------------------------------------------------------\u001b[0m",
      "\u001b[1;31mNameError\u001b[0m                                 Traceback (most recent call last)",
      "\u001b[1;32m<ipython-input-4-48ef1fd7bde4>\u001b[0m in \u001b[0;36m<module>\u001b[1;34m\u001b[0m\n\u001b[0;32m     14\u001b[0m     \u001b[1;32mreturn\u001b[0m \u001b[0mjsonify\u001b[0m\u001b[1;33m(\u001b[0m\u001b[0mstmt\u001b[0m\u001b[1;33m)\u001b[0m\u001b[1;33m\u001b[0m\u001b[1;33m\u001b[0m\u001b[0m\n\u001b[0;32m     15\u001b[0m \u001b[1;33m\u001b[0m\u001b[0m\n\u001b[1;32m---> 16\u001b[1;33m \u001b[0mprint\u001b[0m\u001b[1;33m(\u001b[0m\u001b[0mstmt\u001b[0m\u001b[1;33m)\u001b[0m\u001b[1;33m\u001b[0m\u001b[1;33m\u001b[0m\u001b[0m\n\u001b[0m\u001b[0;32m     17\u001b[0m \u001b[0mprint\u001b[0m\u001b[1;33m(\u001b[0m\u001b[0mlist_states\u001b[0m\u001b[1;33m)\u001b[0m\u001b[1;33m\u001b[0m\u001b[1;33m\u001b[0m\u001b[0m\n",
      "\u001b[1;31mNameError\u001b[0m: name 'stmt' is not defined"
     ]
    }
   ],
   "source": [
    "###### QUESTION: why need to change the variable list_states -> list_states2?\n",
    "\n",
    "@app.route(\"/states\")\n",
    "def list_states():\n",
    "    \"\"\"Return a list of states.\"\"\"\n",
    "\n",
    "    # Use Pandas to perform the sql query\n",
    "    engine = create_engine(\"sqlite:///db/gunviolence_db.sqlite\")\n",
    "    df_gun_violence = pd.read_sql('select * from gunviolence_db', engine)\n",
    "    \n",
    "    stmt = list(df_gun_violence['State'].unique())\n",
    "\n",
    "    # Return a list of the column names (state names)\n",
    "    return jsonify(stmt)\n",
    "\n",
    "print(stmt)\n",
    "print(list_states)"
   ]
  },
  {
   "cell_type": "code",
   "execution_count": null,
   "metadata": {},
   "outputs": [],
   "source": [
    "# METADATA TABLE: Create a summary of gun violence by state. \n",
    "@app.route(\"/metadata/<state>\")\n",
    "def gunviolence_metadata(state):\n",
    "    \"\"\"Return the gun violence data summary (metadata) for a given state.\"\"\"\n",
    "\n",
    "    engine = create_engine(\"sqlite:///db/gunviolence_db.sqlite\")\n",
    "    df_gun_violence2 = pd.read_sql(f\"select * from gunviolence_db where State = '{state}' \", engine)\n",
    "    results = [\n",
    "        list(df_gun_violence2['State']),\n",
    "        list(df_gun_violence2['year']),\n",
    "        list(df_gun_violence2['Incident ID']),\n",
    "        list(df_gun_violence2['Killed'],\n",
    "        list(df_gun_violence2['Injured'])\n",
    "    ]\n",
    "    print('results:', results)\n",
    "            \n",
    "    # Create a dictionary entry for each row of gun violence summary data (metadata)\n",
    "    metadata = \n",
    "             \n",
    "    # Create a dictionary entry for each row of gun violence summary data (metadata)\n",
    "  #  gunviolence_metadata = {}\n",
    "   # for result in results:\n",
    "    #    print(result)\n",
    "        # \n",
    "     #   gunviolence_metadata[\"year\"] = result[0]\n",
    "      #  gunviolence_metadata[\"Incident_ID\"] = result[1]\n",
    "        # gunviolence_metadata[\"Number_Killed\"].sum = result[2]\n",
    "        # gunviolence_metadata[\"Number_Injured\"].sum = result[3]\n",
    "\n",
    "    # print(gunviolence_metadata)\n",
    "    #return jsonify(gunviolence_metadata)\n",
    "\n",
    ">>> df = pd.DataFrame([['a', 'b'], ['c', 'd']],\n",
    "...                   index=['row 1', 'row 2'],\n",
    "...                   columns=['col 1', 'col 2'])\n",
    ">>> df.to_json(orient='split')\n",
    "'{\"columns\":[\"col 1\",\"col 2\"],\n",
    "  \"index\":[\"row 1\",\"row 2\"],\n",
    "  \"data\":[[\"a\",\"b\"],[\"c\",\"d\"]]}'"
   ]
  },
  {
   "cell_type": "code",
   "execution_count": null,
   "metadata": {},
   "outputs": [],
   "source": []
  },
  {
   "cell_type": "code",
   "execution_count": null,
   "metadata": {},
   "outputs": [],
   "source": [
    "# GOAL: Create a dictionary entry for each row of gun violence summary data (metadata)\n",
    "# { 'year' : 2018\n",
    "#   'incident_count': \"IncidentID\".count,\n",
    "#   'number_killed': \"Killed\".sum,\n",
    "#    'number_injured': \"Injured\".sum\n",
    "# }"
   ]
  },
  {
   "cell_type": "code",
   "execution_count": null,
   "metadata": {},
   "outputs": [],
   "source": []
  }
 ],
 "metadata": {
  "kernelspec": {
   "display_name": "Python 3",
   "language": "python",
   "name": "python3"
  },
  "language_info": {
   "codemirror_mode": {
    "name": "ipython",
    "version": 3
   },
   "file_extension": ".py",
   "mimetype": "text/x-python",
   "name": "python",
   "nbconvert_exporter": "python",
   "pygments_lexer": "ipython3",
   "version": "3.6.8"
  }
 },
 "nbformat": 4,
 "nbformat_minor": 2
}
